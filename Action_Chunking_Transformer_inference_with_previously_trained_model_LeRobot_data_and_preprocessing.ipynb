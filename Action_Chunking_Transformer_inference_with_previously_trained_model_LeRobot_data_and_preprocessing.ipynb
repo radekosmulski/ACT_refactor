{
 "cells": [
  {
   "cell_type": "code",
   "execution_count": 1,
   "id": "28888eaf-478e-408c-ac11-5fa516328751",
   "metadata": {},
   "outputs": [],
   "source": [
    "import os\n",
    "import sys\n",
    "from pdb import set_trace\n",
    "\n",
    "os.environ['CUDA_VISIBLE_DEVICES'] = '0'\n",
    "\n",
    "sys.path.append('../detr/models')\n",
    "sys.path.append('../detr')"
   ]
  },
  {
   "cell_type": "code",
   "execution_count": 2,
   "id": "8711183d-62e9-45b7-915a-e66de14e75ce",
   "metadata": {},
   "outputs": [],
   "source": [
    "import lerobot\n",
    "from lerobot.common.datasets.lerobot_dataset import LeRobotDataset\n",
    "\n",
    "from lerobot.common.policies.act.configuration_act import ACTConfig\n",
    "from lerobot.common.policies.normalize import Normalize, Unnormalize\n",
    "from lerobot.common.datasets.utils import cycle"
   ]
  },
  {
   "cell_type": "markdown",
   "id": "499ba6cb-979a-4397-8a85-a451d4b0e006",
   "metadata": {},
   "source": [
    "# Data handling using LeRobot"
   ]
  },
  {
   "cell_type": "code",
   "execution_count": 3,
   "id": "092bc4b9-8d4b-4fb5-9dd3-a128ec7ce05c",
   "metadata": {},
   "outputs": [
    {
     "data": {
      "text/plain": [
       "['lerobot/aloha_sim_insertion_human',\n",
       " 'lerobot/aloha_sim_insertion_scripted',\n",
       " 'lerobot/aloha_sim_transfer_cube_human',\n",
       " 'lerobot/aloha_sim_transfer_cube_scripted',\n",
       " 'lerobot/pusht',\n",
       " 'lerobot/xarm_lift_medium',\n",
       " 'lerobot/xarm_lift_medium_replay',\n",
       " 'lerobot/xarm_push_medium',\n",
       " 'lerobot/xarm_push_medium_replay',\n",
       " 'lerobot/aloha_mobile_cabinet',\n",
       " 'lerobot/aloha_mobile_chair',\n",
       " 'lerobot/aloha_mobile_elevator',\n",
       " 'lerobot/aloha_mobile_shrimp',\n",
       " 'lerobot/aloha_mobile_wash_pan',\n",
       " 'lerobot/aloha_mobile_wipe_wine',\n",
       " 'lerobot/aloha_static_battery',\n",
       " 'lerobot/aloha_static_candy',\n",
       " 'lerobot/aloha_static_coffee',\n",
       " 'lerobot/aloha_static_coffee_new',\n",
       " 'lerobot/aloha_static_cups_open',\n",
       " 'lerobot/aloha_static_fork_pick_up',\n",
       " 'lerobot/aloha_static_pingpong_test',\n",
       " 'lerobot/aloha_static_pro_pencil',\n",
       " 'lerobot/aloha_static_screw_driver',\n",
       " 'lerobot/aloha_static_tape',\n",
       " 'lerobot/aloha_static_thread_velcro',\n",
       " 'lerobot/aloha_static_towel',\n",
       " 'lerobot/aloha_static_vinh_cup',\n",
       " 'lerobot/aloha_static_vinh_cup_left',\n",
       " 'lerobot/aloha_static_ziploc_slide',\n",
       " 'lerobot/umi_cup_in_the_wild']"
      ]
     },
     "execution_count": 3,
     "metadata": {},
     "output_type": "execute_result"
    }
   ],
   "source": [
    "lerobot.available_datasets"
   ]
  },
  {
   "cell_type": "code",
   "execution_count": 4,
   "id": "738528b2-ea71-438c-a2a4-4b37c3f528fd",
   "metadata": {},
   "outputs": [
    {
     "data": {
      "application/vnd.jupyter.widget-view+json": {
       "model_id": "fbae5441acc14805bb45c8f3eda188fb",
       "version_major": 2,
       "version_minor": 0
      },
      "text/plain": [
       "Fetching 56 files:   0%|          | 0/56 [00:00<?, ?it/s]"
      ]
     },
     "metadata": {},
     "output_type": "display_data"
    },
    {
     "data": {
      "application/vnd.jupyter.widget-view+json": {
       "model_id": "04b9513bcce847f59599654c234c6f7c",
       "version_major": 2,
       "version_minor": 0
      },
      "text/plain": [
       "Fetching 56 files:   0%|          | 0/56 [00:00<?, ?it/s]"
      ]
     },
     "metadata": {},
     "output_type": "display_data"
    }
   ],
   "source": [
    "args = {}\n",
    "args['chunk_size'] = 100\n",
    "\n",
    "delta_timestamps = {\n",
    "    \"observation.images.top\": [0],\n",
    "    \"observation.state\": [0],\n",
    "    \"action\": [t / 50 for t in range(args['chunk_size'])],  # this dataset was recorded at 50Hz\n",
    "}\n",
    "train_dataset = LeRobotDataset('lerobot/aloha_sim_transfer_cube_scripted', split='train[:80%]', delta_timestamps=delta_timestamps)\n",
    "val_dataset = LeRobotDataset('lerobot/aloha_sim_transfer_cube_scripted', split='train[80%:]', delta_timestamps=delta_timestamps)"
   ]
  },
  {
   "cell_type": "code",
   "execution_count": 5,
   "id": "c036bfeb-5516-4577-af8f-c0a77303fa83",
   "metadata": {},
   "outputs": [],
   "source": [
    "import numpy as np\n",
    "\n",
    "ims = []\n",
    "for idx in range(train_dataset.episode_data_index['to'][0]):\n",
    "    image =  train_dataset[idx]['observation.images.top'].squeeze(0).permute(1,2,0)\n",
    "    image = (image * 255).numpy().astype(np.uint8)\n",
    "    ims.append(image)"
   ]
  },
  {
   "cell_type": "code",
   "execution_count": 6,
   "id": "6f5cfccb-f23f-4f0b-9ce3-990670de6b76",
   "metadata": {},
   "outputs": [
    {
     "data": {
      "text/plain": [
       "(480, 640, 3)"
      ]
     },
     "execution_count": 6,
     "metadata": {},
     "output_type": "execute_result"
    }
   ],
   "source": [
    "ims[0].shape"
   ]
  },
  {
   "cell_type": "code",
   "execution_count": 7,
   "id": "da74f4e3-5a0f-46f0-ab60-27dc8a7a1c35",
   "metadata": {},
   "outputs": [
    {
     "data": {
      "text/html": [
       "<video src=\"output.mp4\" controls  width=\"320\"  height=\"240\">\n",
       "      Your browser does not support the <code>video</code> element.\n",
       "    </video>"
      ],
      "text/plain": [
       "<IPython.core.display.Video object>"
      ]
     },
     "execution_count": 7,
     "metadata": {},
     "output_type": "execute_result"
    }
   ],
   "source": [
    "import imageio\n",
    "from IPython.display import Video\n",
    "\n",
    "imageio.mimsave('output.mp4', ims, fps=50)\n",
    "video = Video('output.mp4', width=320, height=240)\n",
    "video"
   ]
  },
  {
   "cell_type": "markdown",
   "id": "a6c44b4e-db33-4e27-a3eb-6d3db9a73241",
   "metadata": {},
   "source": [
    "### Very handy data normalization/unnformalization functions"
   ]
  },
  {
   "cell_type": "code",
   "execution_count": 8,
   "id": "bdc6d2d0-31f6-46b1-b51f-ba8e483735e9",
   "metadata": {},
   "outputs": [],
   "source": [
    "import pickle\n",
    "\n",
    "file_path = \"/home/radek/workspace/experiments/aloha/sim_transfer_cube_scripted/51/dataset_stats.pkl\"\n",
    "\n",
    "with open(file_path, \"rb\") as file:\n",
    "    train_dataset_stats = pickle.load(file)"
   ]
  },
  {
   "cell_type": "code",
   "execution_count": 9,
   "id": "1f8a5774-8b2d-4bbf-b174-2740181966cf",
   "metadata": {},
   "outputs": [],
   "source": [
    "import torch\n",
    "\n",
    "train_dataset.stats['action']['mean'] = torch.tensor(train_dataset_stats['action_mean'])\n",
    "train_dataset.stats['action']['std'] = torch.tensor(train_dataset_stats['action_std'])\n",
    "\n",
    "train_dataset.stats['observation.state']['mean'] = torch.tensor(train_dataset_stats['qpos_mean'])\n",
    "train_dataset.stats['observation.state']['std'] = torch.tensor(train_dataset_stats['qpos_std'])\n",
    "\n",
    "# using imagenet stats\n",
    "imagenet_mean = [0.485, 0.456, 0.406]\n",
    "imagenet_std=[0.229, 0.224, 0.225]\n",
    "train_dataset.stats['observation.images.top']['mean'] = torch.tensor(imagenet_mean)[:, None, None]\n",
    "train_dataset.stats['observation.images.top']['std'] = torch.tensor(imagenet_std)[:, None, None]"
   ]
  },
  {
   "cell_type": "code",
   "execution_count": 10,
   "id": "ef788da3-2b4c-47e1-889f-f1322990f8dc",
   "metadata": {},
   "outputs": [],
   "source": [
    "config = ACTConfig()\n",
    "\n",
    "normalize_inputs = Normalize(\n",
    "    config.input_shapes, config.input_normalization_modes, train_dataset.stats\n",
    ")\n",
    "normalize_targets = Normalize(\n",
    "    config.output_shapes, config.output_normalization_modes, train_dataset.stats\n",
    ")\n",
    "unnormalize_outputs = Unnormalize(\n",
    "    config.output_shapes, config.output_normalization_modes, train_dataset.stats\n",
    ")"
   ]
  },
  {
   "cell_type": "markdown",
   "id": "23b5bd94-f72a-44ba-9255-694fdbd87249",
   "metadata": {},
   "source": [
    "These functions can operate directly on batches and leverage stored statistics."
   ]
  },
  {
   "cell_type": "code",
   "execution_count": 11,
   "id": "dabb8685-e8d9-4371-8f47-226e9ea05dd3",
   "metadata": {},
   "outputs": [
    {
     "data": {
      "text/plain": [
       "{'observation.images.top': [3, 480, 640], 'observation.state': [14]}"
      ]
     },
     "execution_count": 11,
     "metadata": {},
     "output_type": "execute_result"
    }
   ],
   "source": [
    "normalize_inputs.shapes"
   ]
  },
  {
   "cell_type": "code",
   "execution_count": 12,
   "id": "402daff3-78a5-4bb9-820d-b7d0e5f7e863",
   "metadata": {},
   "outputs": [
    {
     "data": {
      "text/plain": [
       "{'observation.images.top': 'mean_std', 'observation.state': 'mean_std'}"
      ]
     },
     "execution_count": 12,
     "metadata": {},
     "output_type": "execute_result"
    }
   ],
   "source": [
    "normalize_inputs.modes"
   ]
  },
  {
   "cell_type": "code",
   "execution_count": 13,
   "id": "7a3d6013-b843-4c99-a572-4a5fd4e6aee6",
   "metadata": {},
   "outputs": [
    {
     "data": {
      "text/plain": [
       "torch.Size([3, 1, 1])"
      ]
     },
     "execution_count": 13,
     "metadata": {},
     "output_type": "execute_result"
    }
   ],
   "source": [
    "normalize_inputs.stats['observation.images.top']['mean'].shape"
   ]
  },
  {
   "cell_type": "markdown",
   "id": "bc9c4b21-ab62-46b5-a00b-78f8544ab063",
   "metadata": {},
   "source": [
    "# Create DataLoaders"
   ]
  },
  {
   "cell_type": "code",
   "execution_count": 14,
   "id": "e4cded13-dc11-44ca-b72d-a6ba37157ad5",
   "metadata": {},
   "outputs": [],
   "source": [
    "import torch\n",
    "import multiprocessing as mp"
   ]
  },
  {
   "cell_type": "code",
   "execution_count": 15,
   "id": "106eb2dc-8d7a-45b6-84c3-a82e60157932",
   "metadata": {},
   "outputs": [],
   "source": [
    "train_dataloader = torch.utils.data.DataLoader(\n",
    "    train_dataset,\n",
    "    num_workers=mp.cpu_count()-1,\n",
    "    batch_size=8,\n",
    "    shuffle=True,\n",
    "    pin_memory=True,\n",
    "    drop_last=False,\n",
    ")"
   ]
  },
  {
   "cell_type": "code",
   "execution_count": 16,
   "id": "66305f5d-7ca9-44d6-99c1-ff0a487e384e",
   "metadata": {},
   "outputs": [],
   "source": [
    "val_dataloader = torch.utils.data.DataLoader(\n",
    "    val_dataset,\n",
    "    num_workers=mp.cpu_count()-1,\n",
    "    batch_size=8,\n",
    "    shuffle=False,\n",
    "    pin_memory=True,\n",
    "    drop_last=False,\n",
    ")"
   ]
  },
  {
   "cell_type": "code",
   "execution_count": 17,
   "id": "adae1ad5-49db-488e-ad98-e0731ed2eec0",
   "metadata": {},
   "outputs": [],
   "source": [
    "batch = next(iter(train_dataloader))"
   ]
  },
  {
   "cell_type": "code",
   "execution_count": 18,
   "id": "b590bd53-0590-4b28-894d-3ce8aeb66178",
   "metadata": {},
   "outputs": [
    {
     "name": "stdout",
     "output_type": "stream",
     "text": [
      "observation.images.top: torch.Size([8, 1, 3, 480, 640])\n",
      "observation.state: torch.Size([8, 1, 14])\n",
      "action: torch.Size([8, 100, 14])\n",
      "episode_index: torch.Size([8])\n",
      "frame_index: torch.Size([8])\n",
      "timestamp: torch.Size([8])\n",
      "next.done: torch.Size([8])\n",
      "index: torch.Size([8])\n",
      "observation.images.top_is_pad: torch.Size([8, 1])\n",
      "observation.state_is_pad: torch.Size([8, 1])\n",
      "action_is_pad: torch.Size([8, 100])\n"
     ]
    }
   ],
   "source": [
    "for k,v in batch.items():\n",
    "    print(f'{k}: {v.shape}')"
   ]
  },
  {
   "cell_type": "markdown",
   "id": "1cba61da-0f42-40de-99f7-7ba10d01f639",
   "metadata": {},
   "source": [
    "# Load trained policy"
   ]
  },
  {
   "cell_type": "code",
   "execution_count": 19,
   "id": "656e5943-145a-49ee-a2bd-e580011ca58a",
   "metadata": {},
   "outputs": [],
   "source": [
    "from aim import Run\n",
    "from torch import nn\n",
    "import torchvision\n",
    "import torchvision.transforms as transforms\n",
    "import torch.nn.functional as F\n",
    "\n",
    "from transformer import TransformerEncoder, TransformerDecoder, TransformerEncoderLayer, TransformerDecoderLayer\n",
    "from transformer import Transformer as DETRTransformer\n",
    "from position_encoding import PositionEmbeddingSine, PositionEmbeddingLearned, NestedTensor"
   ]
  },
  {
   "cell_type": "code",
   "execution_count": 20,
   "id": "1e27e9e1-63da-4db7-bfe4-903ddd547378",
   "metadata": {},
   "outputs": [],
   "source": [
    "dry_run = True\n",
    "\n",
    "args = {\n",
    "    'num_epochs': 10000,\n",
    "    'eval_interval_epochs': 500,\n",
    "    'num_eval_rollouts': 100,\n",
    "    'lr_backbone': 1e-5,\n",
    "    'batch_size': 8,\n",
    "    'chunk_size': 100,  # chunk_size is --> num_queries <-- !!!!\n",
    "    'd_model': 512,  # d_model\n",
    "    'dim_feedforward': 3200,\n",
    "    'lr': 1e-5,\n",
    "    'kl_weight': 10,\n",
    "    'state_dim': 14,\n",
    "    'num_episodes': 50,\n",
    "    'episode_len': 400,\n",
    "    'camera_names': ['top'],\n",
    "    'num_encoder_layers': 4,\n",
    "    'num_decoder_layers': 7,\n",
    "    'backbone': 'resnet18',\n",
    "    'nhead': 8,\n",
    "    'weight_decay': 1e-4,\n",
    "    'dropout': 0.1,\n",
    "    'position_embedding': 'sine',\n",
    "    'normalize_before': False,\n",
    "    'fps': 50,\n",
    "    'latent_dim': 32,\n",
    "    'inference_query_frequency': 20\n",
    "}\n",
    "\n",
    "if dry_run:\n",
    "    args.update({\n",
    "        'num_epochs': 2,\n",
    "        'num_eval_rollouts': 2,\n",
    "    })\n",
    "\n",
    "run = Run(experiment=\"imitate_episodes\", repo='dry_run' if dry_run else None)\n",
    "run[\"hparams\"] = args['chunk_size']"
   ]
  },
  {
   "cell_type": "code",
   "execution_count": 21,
   "id": "7fcde14e-fd63-461e-90ee-e2fab78c7737",
   "metadata": {},
   "outputs": [],
   "source": [
    "%run define_arch.ipynb"
   ]
  },
  {
   "cell_type": "code",
   "execution_count": 22,
   "id": "a1ea9330-6862-4712-9e05-7c680a58dbe8",
   "metadata": {},
   "outputs": [
    {
     "data": {
      "text/plain": [
       "(16000, 4000)"
      ]
     },
     "execution_count": 22,
     "metadata": {},
     "output_type": "execute_result"
    }
   ],
   "source": [
    "len(train_dataset), len(val_dataset)"
   ]
  },
  {
   "cell_type": "code",
   "execution_count": 23,
   "id": "68f42b55-2afe-4d97-8f47-2eae75526ba9",
   "metadata": {},
   "outputs": [],
   "source": [
    "run = Run(experiment=\"imitate_episodes\", repo='dry_run' if dry_run else None)\n",
    "run[\"hparams\"] = args"
   ]
  },
  {
   "cell_type": "code",
   "execution_count": 24,
   "id": "7027bb33-f1d5-4352-9d08-eb82c973e6cd",
   "metadata": {},
   "outputs": [],
   "source": [
    "# useful for figuring out how long cycling through the batches of an entire dataset takes, but probably for training I'll use cycle\n",
    "\n",
    "# %%time\n",
    "# for i, batch in enumerate(train_dataloader):\n",
    "#     pass"
   ]
  },
  {
   "cell_type": "code",
   "execution_count": 25,
   "id": "7b1a8b74-ae76-4e5f-933a-1c3a97b6ced7",
   "metadata": {},
   "outputs": [
    {
     "name": "stdout",
     "output_type": "stream",
     "text": [
      "KL Weight 10\n",
      "number of parameters: 83.93M\n"
     ]
    },
    {
     "name": "stderr",
     "output_type": "stream",
     "text": [
      "/home/radek/miniforge3/envs/lerobot/lib/python3.10/site-packages/torchvision/models/_utils.py:208: UserWarning: The parameter 'pretrained' is deprecated since 0.13 and may be removed in the future, please use 'weights' instead.\n",
      "  warnings.warn(\n",
      "/home/radek/miniforge3/envs/lerobot/lib/python3.10/site-packages/torchvision/models/_utils.py:223: UserWarning: Arguments other than a weight enum or `None` for 'weights' are deprecated since 0.13 and may be removed in the future. The current behavior is equivalent to passing `weights=ResNet18_Weights.IMAGENET1K_V1`. You can also use `weights=ResNet18_Weights.DEFAULT` to get the most up-to-date weights.\n",
      "  warnings.warn(msg)\n"
     ]
    }
   ],
   "source": [
    "policy = ACTPolicy()\n",
    "\n",
    "print(f\"KL Weight {args['kl_weight']}\")\n",
    "\n",
    "n_parameters = sum(p.numel() for p in policy.model.parameters() if p.requires_grad)\n",
    "print(\"number of parameters: %.2fM\" % (n_parameters/1e6))"
   ]
  },
  {
   "cell_type": "code",
   "execution_count": 26,
   "id": "e91fd5f8-8ddf-4b50-ba57-6679e4ad61d8",
   "metadata": {},
   "outputs": [
    {
     "data": {
      "text/plain": [
       "tensor(72.3687, device='cuda:0', grad_fn=<AddBackward0>)"
      ]
     },
     "execution_count": 26,
     "metadata": {},
     "output_type": "execute_result"
    }
   ],
   "source": [
    "policy.model.cuda()\n",
    "\n",
    "# ACTPolicy returns the loss if passed actions, otherwise predicts actions, operates on \"chunk\" of actions, potentially padded\n",
    "policy(\n",
    "    batch['observation.state'].squeeze(1).cuda(),\n",
    "    image=batch['observation.images.top'].squeeze(1).cuda(),\n",
    "    actions=batch['action'].cuda(),\n",
    "    is_pad=batch['action_is_pad'].cuda()\n",
    ")"
   ]
  },
  {
   "cell_type": "markdown",
   "id": "222baa9f-e4d5-40e3-bdd0-12af570ccfd3",
   "metadata": {},
   "source": [
    "# Setup gym env"
   ]
  },
  {
   "cell_type": "code",
   "execution_count": 27,
   "id": "34ef291e-0777-4bea-a450-73146094d1d4",
   "metadata": {},
   "outputs": [],
   "source": [
    "# pip install gym-aloha"
   ]
  },
  {
   "cell_type": "code",
   "execution_count": 28,
   "id": "922d67f0-d984-471e-b15e-7c96061594b9",
   "metadata": {},
   "outputs": [],
   "source": [
    "import gymnasium as gym\n",
    "import gym_aloha\n",
    "\n",
    "env = gym.make(\n",
    "    \"gym_aloha/AlohaTransferCube-v0\",\n",
    "    obs_type=\"pixels_agent_pos\",\n",
    "    max_episode_steps=500\n",
    ")\n",
    "observation, info = env.reset()\n",
    "frames = []\n",
    "frames.append(env.render())"
   ]
  },
  {
   "cell_type": "code",
   "execution_count": 29,
   "id": "bc5b7afd-bee9-47bf-af23-9a6580dd53f9",
   "metadata": {},
   "outputs": [
    {
     "data": {
      "text/plain": [
       "True"
      ]
     },
     "execution_count": 29,
     "metadata": {},
     "output_type": "execute_result"
    }
   ],
   "source": [
    "# env.render() doesnt' do anything fancy\n",
    "np.allclose(frames[0], observation['pixels']['top'])"
   ]
  },
  {
   "cell_type": "code",
   "execution_count": 30,
   "id": "3705dda7-da6e-4e4d-bf39-3ee7ad72ff5e",
   "metadata": {},
   "outputs": [
    {
     "data": {
      "text/plain": [
       "dtype('uint8')"
      ]
     },
     "execution_count": 30,
     "metadata": {},
     "output_type": "execute_result"
    }
   ],
   "source": [
    "observation['pixels']['top'].dtype"
   ]
  },
  {
   "cell_type": "markdown",
   "id": "f3e98908-1239-4ff4-9169-74c35dd094d3",
   "metadata": {},
   "source": [
    "Two ways to display an image without `matplotlib`."
   ]
  },
  {
   "cell_type": "code",
   "execution_count": 31,
   "id": "6348c95b-995b-4286-ab60-61defe23d3ca",
   "metadata": {},
   "outputs": [
    {
     "data": {
      "image/png": "[encoded data removed]",
      "text/plain": [
       "<IPython.core.display.Image object>"
      ]
     },
     "execution_count": 31,
     "metadata": {},
     "output_type": "execute_result"
    }
   ],
   "source": [
    "from IPython.display import Image\n",
    "\n",
    "imageio.imwrite('output.png', observation['pixels']['top'])\n",
    "image = imageio.v3.imread('output.png')\n",
    "\n",
    "Image(filename='output.png')"
   ]
  },
  {
   "cell_type": "markdown",
   "id": "b725ddb5-e602-411e-b6ea-b34c5760b87a",
   "metadata": {},
   "source": [
    "if we reset the env, hopefully we will get a different image"
   ]
  },
  {
   "cell_type": "code",
   "execution_count": 32,
   "id": "c88fb1d3-a207-407b-a25a-e36f355f867d",
   "metadata": {},
   "outputs": [
    {
     "data": {
      "image/png": "[encoded data removed]",
      "text/plain": [
       "<Figure size 1200x600 with 8 Axes>"
      ]
     },
     "metadata": {},
     "output_type": "display_data"
    }
   ],
   "source": [
    "import numpy as np\n",
    "import matplotlib.pyplot as plt\n",
    "\n",
    "\n",
    "images = []\n",
    "for i in range(8):\n",
    "    observation, info = env.reset()\n",
    "    images.append(observation['pixels']['top'])\n",
    "\n",
    "fig, axes = plt.subplots(nrows=3, ncols=3, figsize=(12, 6))\n",
    "\n",
    "for i, ax in enumerate(axes.flat):\n",
    "    if i < len(images):\n",
    "        ax.imshow(images[i])\n",
    "        ax.set_title(f\"Image {i}\")\n",
    "        ax.axis(\"off\")\n",
    "    else:\n",
    "        fig.delaxes(ax)\n",
    "\n",
    "plt.tight_layout()\n",
    "plt.show()"
   ]
  },
  {
   "cell_type": "markdown",
   "id": "c8905d3a-bb53-40df-b3f2-34610256ef0a",
   "metadata": {},
   "source": [
    "Great! sampling of the starting position works :)"
   ]
  },
  {
   "cell_type": "code",
   "execution_count": 33,
   "id": "58bc4be9-027d-46b4-865e-4bc6db869e69",
   "metadata": {},
   "outputs": [
    {
     "data": {
      "text/plain": [
       "<All keys matched successfully>"
      ]
     },
     "execution_count": 33,
     "metadata": {},
     "output_type": "execute_result"
    }
   ],
   "source": [
    "# model trained using Action_Chunking_Transformer.ipynb!\n",
    "\n",
    "policy.load_state_dict(\n",
    "    torch.load('/home/radek/workspace/experiments/aloha/sim_transfer_cube_scripted/second_workstream/policy_epoch_9999.ckpt')\n",
    ")"
   ]
  },
  {
   "cell_type": "markdown",
   "id": "c04c3154-7d9e-4129-906a-135ae0542231",
   "metadata": {},
   "source": [
    "# Drive the arms using `policy` and generate recording"
   ]
  },
  {
   "cell_type": "code",
   "execution_count": 34,
   "id": "dc88f697-66da-4684-a85a-1989c1930ac6",
   "metadata": {},
   "outputs": [
    {
     "name": "stdout",
     "output_type": "stream",
     "text": [
      "np.sum(rewards)=231\t{'is_success': True}\n"
     ]
    }
   ],
   "source": [
    "# https://github.com/huggingface/lerobot/blob/main/examples/2_evaluate_pretrained_policy.py\n",
    "\n",
    "from collections import deque\n",
    "action_sequence = deque()\n",
    "\n",
    "rewards = []\n",
    "frames = []\n",
    "\n",
    "numpy_observation, info = env.reset()\n",
    "frames.append(env.render())\n",
    "\n",
    "done = False\n",
    "while not done:\n",
    "    # Prepare observation for the policy running in Pytorch\n",
    "    state = torch.from_numpy(numpy_observation[\"agent_pos\"])  # pos, generalized position, is interchangeably referred to as \"state\"\n",
    "    image = torch.from_numpy(numpy_observation[\"pixels\"][\"top\"])\n",
    "\n",
    "    # Convert to float32 with image from channel first in [0,255]\n",
    "    # to channel last in [0,1]\n",
    "    state = state.to(torch.float32)\n",
    "    image = image.to(torch.float32) / 255\n",
    "    image = image.permute(2, 0, 1)\n",
    "    \n",
    "    normalized_inputs = normalize_inputs({'observation.images.top': image, 'observation.state': state})\n",
    "    state, image = normalized_inputs['observation.state'], normalized_inputs['observation.images.top']\n",
    "    state = state.cuda(non_blocking=True)\n",
    "    image = image.cuda(non_blocking=True)\n",
    "\n",
    "    if not action_sequence:\n",
    "        with torch.inference_mode():\n",
    "            actions = policy(state.unsqueeze(0), image.unsqueeze(0))\n",
    "        for action in actions.squeeze(0).to(\"cpu\").numpy()[:args['inference_query_frequency']]:\n",
    "            action_sequence.append(action)\n",
    "\n",
    "    action = action_sequence.popleft()\n",
    "    action = unnormalize_outputs({'action': torch.tensor(action)})['action'].numpy()\n",
    "    numpy_observation, reward, terminated, truncated, info = env.step(action)\n",
    "\n",
    "    rewards.append(reward)\n",
    "    frames.append(env.render())\n",
    "\n",
    "    done = terminated | truncated | done\n",
    "\n",
    "print(f'{np.sum(rewards)=}\\t{info}')"
   ]
  },
  {
   "cell_type": "code",
   "execution_count": 35,
   "id": "a02488ba-7ae5-4fbf-9065-f0e2462dc294",
   "metadata": {},
   "outputs": [
    {
     "name": "stdout",
     "output_type": "stream",
     "text": [
      "Video of the evaluation is available in 'rollout.mp4'.\n"
     ]
    }
   ],
   "source": [
    "video_path =  \"rollout.mp4\"\n",
    "imageio.mimsave(str(video_path), np.stack(frames), fps=args['fps'])\n",
    "\n",
    "print(f\"Video of the evaluation is available in '{video_path}'.\")"
   ]
  },
  {
   "cell_type": "code",
   "execution_count": 36,
   "id": "bfe8d342-0404-484e-8c4b-d806795e671a",
   "metadata": {},
   "outputs": [
    {
     "data": {
      "text/html": [
       "<video src=\"rollout.mp4\" controls  width=\"320\"  height=\"240\">\n",
       "      Your browser does not support the <code>video</code> element.\n",
       "    </video>"
      ],
      "text/plain": [
       "<IPython.core.display.Video object>"
      ]
     },
     "execution_count": 36,
     "metadata": {},
     "output_type": "execute_result"
    }
   ],
   "source": [
    "video = Video('rollout.mp4', width=320, height=240)\n",
    "video"
   ]
  },
  {
   "cell_type": "markdown",
   "id": "e623c5a5-baba-4071-9c04-7ffa2a5867a0",
   "metadata": {},
   "source": [
    "# Calculate the loss on a validation set"
   ]
  },
  {
   "cell_type": "code",
   "execution_count": 37,
   "id": "6dd6c05b-0eee-4e49-98c2-3b1a1cb09f20",
   "metadata": {},
   "outputs": [
    {
     "name": "stdout",
     "output_type": "stream",
     "text": [
      "Mean loss: cum_loss/n=0.021410204481333493\n"
     ]
    }
   ],
   "source": [
    "# https://github.com/huggingface/lerobot/blob/main/examples/2_evaluate_pretrained_policy.py\n",
    "\n",
    "policy.model.eval()\n",
    "\n",
    "cum_loss = 0\n",
    "n = 0\n",
    "for batch in val_dataloader:\n",
    "    normalized_inputs = normalize_inputs(batch)\n",
    "    normalized_inputs = normalize_targets(normalized_inputs)\n",
    "    \n",
    "    states, images, actions, is_pad = (\n",
    "        normalized_inputs['observation.state'].cuda(),\n",
    "        normalized_inputs['observation.images.top'].cuda(),\n",
    "        normalized_inputs['action'].cuda(),\n",
    "        normalized_inputs['action_is_pad'].cuda()\n",
    "    )\n",
    "\n",
    "    with torch.inference_mode():\n",
    "        loss = policy(states.squeeze(1), images.squeeze(1), actions, is_pad)\n",
    "\n",
    "    current_batch_size = batch['index'].shape[0]\n",
    "    cum_loss += loss.item() * current_batch_size\n",
    "    n += current_batch_size\n",
    "\n",
    "print(f'Mean loss: {cum_loss/n=}')"
   ]
  }
 ],
 "metadata": {
  "kernelspec": {
   "display_name": "Python 3 (ipykernel)",
   "language": "python",
   "name": "python3"
  },
  "language_info": {
   "codemirror_mode": {
    "name": "ipython",
    "version": 3
   },
   "file_extension": ".py",
   "mimetype": "text/x-python",
   "name": "python",
   "nbconvert_exporter": "python",
   "pygments_lexer": "ipython3",
   "version": "3.10.14"
  }
 },
 "nbformat": 4,
 "nbformat_minor": 5
}
