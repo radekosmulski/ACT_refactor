{
 "cells": [
  {
   "cell_type": "markdown",
   "id": "72aea223-e803-4df2-945f-a97a3d4cf95a",
   "metadata": {},
   "source": [
    "The following is a refactor of [the Action Chunking Transformer](https://github.com/tonyzhaozh/act) by Tony Zhao et al (paper: [Learning Fine-Grained Bimanual Manipulation with Low-Cost Hardware](https://arxiv.org/abs/2304.13705)).\n",
    "\n",
    "I made a couple of simplifications along the way, mostly on the inference side of things (for instance, I removed temporal ensembling). \n",
    "\n",
    "The architecture and training should be unchanged.\n",
    "\n",
    "To run the training code, you need [the DETR code from facebook research](https://github.com/facebookresearch/detr).\n",
    "\n",
    "In order to roll out the trained policy in `dmcontrol` (`mujoco`) you need to install a couple of things as outlined in [the original action transformer repo](https://github.com/tonyzhaozh/act). You also need the [ACT code](https://github.com/tonyzhaozh/act) itself as this notebook doesn't include `make_sim_env` and `BOX_POSE` (training should work regardless, we only depend on `DETR` for it)\n",
    "\n",
    "This code doesn't contain any original ideas from me, it is simply a refactor of the outstanding research shared by Tony Zhao et al.\n",
    "\n",
    "I would like to thank Tony Zhao and his colleagues for sharing their work -- there are many conventions and ideas that are completely opaque to people from outside the field of robotics. For instance, for the longest time I didn't even how the control of the robot is achieved! Turns out the solution is extremely simple -- states become movement targets. And that is the tip of the iceberg of the puzzles that are missing for people from outside the field that the insiders take for granted :).\n",
    "\n",
    "So without actual code being shared, reading papers is absolutely hopeless. You need some anchor point to get you inside. The Action Chunking Transformer, on top of being an extremely important piece of cutting-edge research, provides the link, for which I feel we all should be very grateful.\n",
    "\n",
    "As for the setup -- I opted to leave the data loading code (nearly) unchanged. Another extremely important piece of the shared ACT codebase is simulation. Creating training episodes in `dmcontrol`, rolling out the trained policy, etc. I played around with it to understand what it does, but I decided to invest my time on the architecture/training side of things.\n",
    "\n",
    "Having said that, it would be extremely valuable to explore how these simulations are created, how to create new environments, how to set rewards, etc. Might be a good idea for another refactor/blog post, or maybe someone else would like to give it a go? Being able to import architectures from STEP files for various robot arms sounds like a super valuable functionality. Especially that, unfortunately, validation loss is not a perfect predictor of performance on the metric, so the only way to tell whether your model has improved is via rollout validation. And here, the metric is noisy as well, so ideally you want a lot of rollouts. And that in the real world gets tedious, though it can be automated to some extent as well.\n",
    "\n",
    "Without further ado, here is the code. `DETR` was also seminal, interesting, and very welcome (calculating anchors and nms-ing predictions was fun in its own painful way, but I do welcome any methods that can safeguard us from this going forward!), and in particular DETR was a novel way of leveraging the transformer architecture.\n",
    "\n",
    "Awesome here we get to explore both!\n",
    "\n",
    "Just one last side note -- you can download the training data using google drive links in the README of [ACT](https://github.com/tonyzhaozh/act), but it is a major pain as you cannot really do it via the web gui. I used [rclone](https://rclone.org/drive/) and set up an application in GCS and the transfer itself cost me a couple of dollars. There is a way of downloading using rclone without using a paid gcs account, but I haven't tried that.\n",
    "\n",
    "Alternatively, you can generate your training episodes using `record_sim_episodes.py` in [the ACT repo](https://github.com/tonyzhaozh/act) which IMO is the way to get started though you will only have scripted data and not the episodes recorded by humans (human-sourced data is more challenging due to the inherent noisiness/multiple ways of going about the same thing)."
   ]
  },
  {
   "cell_type": "code",
   "execution_count": 1,
   "id": "a44c8d79-ead9-4d34-bf43-e649b1b4ea00",
   "metadata": {},
   "outputs": [],
   "source": [
    "import os\n",
    "os.environ['CUDA_VISIBLE_DEVICES'] = '0'\n",
    "\n",
    "# using cloned code from https://github.com/facebookresearch/detr\n",
    "# adding the dir to PYTHONPATH didn't work for some reason, some classes would import but others would not hence this nasty hack\n",
    "\n",
    "cwd = os.getcwd()\n",
    "os.chdir('../detr/models')\n",
    "\n",
    "from transformer import TransformerEncoder, TransformerDecoder, TransformerEncoderLayer, TransformerDecoderLayer\n",
    "from transformer import Transformer as DETRTransformer\n",
    "from position_encoding import PositionEmbeddingSine, PositionEmbeddingLearned, NestedTensor\n",
    "os.chdir(cwd)"
   ]
  },
  {
   "cell_type": "code",
   "execution_count": 2,
   "id": "7fbded01-b5b1-4e72-b7ee-5efe1524b5a9",
   "metadata": {},
   "outputs": [],
   "source": [
    "import torch\n",
    "import numpy as np\n",
    "import pickle\n",
    "import argparse\n",
    "import matplotlib.pyplot as plt\n",
    "from copy import deepcopy\n",
    "from tqdm import tqdm\n",
    "from einops import rearrange\n",
    "import copy\n",
    "\n",
    "from utils import sample_box_pose, sample_insertion_pose # robot functions\n",
    "from visualize_episodes import save_videos\n",
    "from pdb import set_trace\n",
    "import matplotlib.pyplot as plt\n",
    "import math\n",
    "from typing import Optional, List\n",
    "import h5py\n",
    "from torch.utils.data import DataLoader\n",
    "from pathlib import Path\n",
    "\n",
    "import torch.nn as nn\n",
    "from torch.nn import functional as F\n",
    "import torchvision\n",
    "import torchvision.transforms as transforms\n",
    "from torch import nn, Tensor\n",
    "\n",
    "from sim_env import make_sim_env, BOX_POSE\n",
    "from aim import Run"
   ]
  },
  {
   "cell_type": "code",
   "execution_count": 3,
   "id": "8dad74bb-b429-4633-b9c7-833737a0fd61",
   "metadata": {},
   "outputs": [],
   "source": [
    "dry_run = True"
   ]
  },
  {
   "cell_type": "code",
   "execution_count": 4,
   "id": "2f32b6da-e992-4323-8e64-7db286a452bd",
   "metadata": {},
   "outputs": [],
   "source": [
    "args = {\n",
    "    'num_epochs': 10000,\n",
    "    'eval_interval_epochs': 500,\n",
    "    'num_eval_rollouts': 100,\n",
    "    'lr_backbone': 1e-5,\n",
    "    'batch_size': 8,\n",
    "    'trained_model_dir': '../experiments/aloha/sim_transfer_cube_scripted/second_workstream/',\n",
    "    'task_name': 'sim_transfer_cube_scripted',\n",
    "    'dataset_dir': '../data/aloha/sim_transfer_cube_scripted',\n",
    "    'chunk_size': 100,  # chunk_size is --> num_queries <-- !!!!\n",
    "    'd_model': 512,  # d_model\n",
    "    'dim_feedforward': 3200,\n",
    "    'lr': 1e-5,\n",
    "    'kl_weight': 10,\n",
    "    'state_dim': 14,\n",
    "    'num_episodes': 50,\n",
    "    'episode_len': 400,\n",
    "    'camera_names': ['top'],\n",
    "    'num_encoder_layers': 4,\n",
    "    'num_decoder_layers': 7,\n",
    "    'backbone': 'resnet18',\n",
    "    'nhead': 8,\n",
    "    'weight_decay': 1e-4,\n",
    "    'dropout': 0.1,\n",
    "    'position_embedding': 'sine',\n",
    "    'normalize_before': False,\n",
    "    'fps': 50,\n",
    "    'latent_dim': 32,\n",
    "}\n",
    "\n",
    "if dry_run:\n",
    "    args.update({\n",
    "        'num_epochs': 2,\n",
    "        'num_eval_rollouts': 2,\n",
    "    })"
   ]
  },
  {
   "cell_type": "code",
   "execution_count": 5,
   "id": "2470af92-9bb6-4201-b163-7fe4a345fd75",
   "metadata": {},
   "outputs": [],
   "source": [
    "run = Run(experiment=\"imitate_episodes\", repo='dry_run' if dry_run else None)\n",
    "run[\"hparams\"] = args"
   ]
  },
  {
   "cell_type": "markdown",
   "id": "88c026d9-dea5-41f2-9b49-f998398e5152",
   "metadata": {},
   "source": [
    "# Data Loading"
   ]
  },
  {
   "cell_type": "markdown",
   "id": "262bfd4b-5610-4868-84e5-2d2b123c71d1",
   "metadata": {},
   "source": [
    "The next cell can be safely glossed over -- we look at the data the model is seeing below it.\n",
    "\n",
    "In the next cell we are dealing with the intricacies of loading the data from `hdf` files which might not be all that relevant."
   ]
  },
  {
   "cell_type": "code",
   "execution_count": 6,
   "id": "725edeee-dfb6-4516-aabb-31b8c8d8e473",
   "metadata": {},
   "outputs": [],
   "source": [
    "class EpisodicDataset(torch.utils.data.Dataset):\n",
    "    def __init__(self, episode_ids):\n",
    "        self.episode_ids = episode_ids\n",
    "        self.norm_stats = get_norm_stats()\n",
    "        self.normalize = transforms.Normalize(mean=[0.485, 0.456, 0.406], std=[0.229, 0.224, 0.225])\n",
    "\n",
    "    def __len__(self):\n",
    "        return len(self.episode_ids)\n",
    "\n",
    "    def __getitem__(self, index):\n",
    "        episode_id = self.episode_ids[index]\n",
    "        dataset_path = os.path.join(args['dataset_dir'], f'episode_{episode_id}.hdf5')\n",
    "        \n",
    "        with h5py.File(dataset_path, 'r') as root:\n",
    "            is_sim = root.attrs['sim']  # given what I'm planning, I will not need this flag\n",
    "            is_sim = True\n",
    "            episode_len = root['/action'].shape[0]  # 400\n",
    "            \n",
    "            start_ts = np.random.choice(episode_len)\n",
    "            # get observation at start_ts only\n",
    "            qpos = root['/observations/qpos'][start_ts]\n",
    "            qvel = root['/observations/qvel'][start_ts]\n",
    "            image_dict = dict()\n",
    "            for cam_name in args['camera_names']:\n",
    "                image_dict[cam_name] = root[f'/observations/images/{cam_name}'][start_ts]\n",
    "            # get all actions after and including start_ts\n",
    "            if is_sim:\n",
    "                action = root['/action'][start_ts:]\n",
    "                action_len = episode_len - start_ts\n",
    "            else:\n",
    "                # I have no clue why this branch of the if statement exists?!\n",
    "                # maybe this is some artifact of how the data was captured...\n",
    "                # if there is a delay in reading qpos... then winding actions by 0.02s might make sense\n",
    "                # this is perplexing but I will leave this here in case it is useful in the future...\n",
    "                action = root['/action'][max(0, start_ts - 1):] # hack, to make timesteps more aligned\n",
    "                action_len = episode_len - max(0, start_ts - 1) # hack, to make timesteps more aligned\n",
    "\n",
    "        self.is_sim = is_sim\n",
    "        padded_action = np.zeros((episode_len, 14), dtype=np.float32)\n",
    "        padded_action[:action_len] = action\n",
    "        is_pad = np.zeros(episode_len)\n",
    "        is_pad[action_len:] = 1\n",
    "\n",
    "        all_cam_images = np.stack([image_dict[cam_name] for cam_name in args['camera_names']], axis=0)\n",
    "\n",
    "        # construct observations\n",
    "        image_data = torch.from_numpy(all_cam_images).float()\n",
    "        qpos_data = torch.from_numpy(qpos).float()\n",
    "        action_data = torch.from_numpy(padded_action).float()\n",
    "        is_pad = torch.from_numpy(is_pad).bool()\n",
    "\n",
    "        # channel last\n",
    "        image_data = torch.einsum('k h w c -> k c h w', image_data)\n",
    "\n",
    "        # normalize image and change dtype to float\n",
    "        image_data /= 255.0\n",
    "        image_data = self.normalize(image_data)\n",
    "        action_data = (action_data - self.norm_stats[\"action_mean\"]) / self.norm_stats[\"action_std\"]\n",
    "        qpos_data = (qpos_data - self.norm_stats[\"qpos_mean\"]) / self.norm_stats[\"qpos_std\"]\n",
    "\n",
    "        return image_data[0], qpos_data, action_data, is_pad\n",
    "\n",
    "\n",
    "def get_norm_stats():\n",
    "    dataset_dir = Path(args['dataset_dir'])\n",
    "    hdf5_files = list(dataset_dir.glob(\"*.hdf5\"))\n",
    "    all_qpos_data = []\n",
    "    all_action_data = []\n",
    "    for episode_path in hdf5_files:\n",
    "        # dataset_path = os.path.join(dataset_dir, f'episode_{episode_idx}.hdf5')\n",
    "        with h5py.File(episode_path, 'r') as root:\n",
    "            qpos = root['/observations/qpos'][()]\n",
    "            qvel = root['/observations/qvel'][()]\n",
    "            action = root['/action'][()]\n",
    "        all_qpos_data.append(torch.from_numpy(qpos))\n",
    "        all_action_data.append(torch.from_numpy(action))\n",
    "    all_qpos_data = torch.stack(all_qpos_data)\n",
    "    all_action_data = torch.stack(all_action_data)\n",
    "    all_action_data = all_action_data\n",
    "\n",
    "    # normalize action data\n",
    "    action_mean = all_action_data.mean(dim=[0, 1], keepdim=True)\n",
    "    action_std = all_action_data.std(dim=[0, 1], keepdim=True)\n",
    "    action_std = torch.clip(action_std, 1e-2, np.inf) # clipping\n",
    "\n",
    "    # normalize qpos data\n",
    "    qpos_mean = all_qpos_data.mean(dim=[0, 1], keepdim=True)\n",
    "    qpos_std = all_qpos_data.std(dim=[0, 1], keepdim=True)\n",
    "    qpos_std = torch.clip(qpos_std, 1e-2, np.inf) # clipping\n",
    "\n",
    "    stats = {\"action_mean\": action_mean.numpy().squeeze(), \"action_std\": action_std.numpy().squeeze(),\n",
    "             \"qpos_mean\": qpos_mean.numpy().squeeze(), \"qpos_std\": qpos_std.numpy().squeeze(),\n",
    "             \"example_qpos\": qpos}\n",
    "\n",
    "    return stats\n",
    "\n",
    "\n",
    "def load_data(num_episodes, camera_names, batch_size_train, batch_size_val):\n",
    "    print(f\"\\nData from: {args['dataset_dir']}\\n\")\n",
    "    # obtain train test split\n",
    "    train_ratio = 0.8\n",
    "    shuffled_indices = np.random.permutation(num_episodes)\n",
    "    train_indices = shuffled_indices[:int(train_ratio * num_episodes)]\n",
    "    val_indices = shuffled_indices[int(train_ratio * num_episodes):]\n",
    "\n",
    "    # construct dataset and dataloader\n",
    "    train_dataset = EpisodicDataset(train_indices)\n",
    "    val_dataset = EpisodicDataset(val_indices)\n",
    "    train_dataloader = DataLoader(train_dataset, batch_size=batch_size_train, shuffle=True, pin_memory=True, num_workers=1, prefetch_factor=1)\n",
    "    val_dataloader = DataLoader(val_dataset, batch_size=batch_size_val, shuffle=True, pin_memory=True, num_workers=1, prefetch_factor=1)\n",
    "\n",
    "    return train_dataloader, val_dataloader\n"
   ]
  },
  {
   "cell_type": "code",
   "execution_count": 7,
   "id": "85d38b5e-980e-46f0-b8c7-3b81c28e28ca",
   "metadata": {},
   "outputs": [
    {
     "name": "stdout",
     "output_type": "stream",
     "text": [
      "\n",
      "Data from: ../data/aloha/sim_transfer_cube_scripted\n",
      "\n"
     ]
    }
   ],
   "source": [
    "train_dataloader, val_dataloader = load_data(\n",
    "    args['num_episodes'],\n",
    "    args['camera_names'],\n",
    "    batch_size_train=args['batch_size'],\n",
    "    batch_size_val=args['batch_size']\n",
    ")"
   ]
  },
  {
   "cell_type": "code",
   "execution_count": 8,
   "id": "77bc37f5-edd7-4ab8-b8f7-ac191ec492f0",
   "metadata": {},
   "outputs": [],
   "source": [
    "images, qpos, actions, is_pad = next(iter(train_dataloader))"
   ]
  },
  {
   "cell_type": "code",
   "execution_count": 9,
   "id": "2e3dfb6b-95c2-46ce-8246-858080c8d7ca",
   "metadata": {},
   "outputs": [
    {
     "data": {
      "text/plain": [
       "torch.Size([8, 3, 480, 640])"
      ]
     },
     "execution_count": 9,
     "metadata": {},
     "output_type": "execute_result"
    }
   ],
   "source": [
    "images.shape"
   ]
  },
  {
   "cell_type": "code",
   "execution_count": 10,
   "id": "67baf4f9-5fff-4a56-a5c0-612261869d8a",
   "metadata": {},
   "outputs": [
    {
     "data": {
      "image/png": "[encoded data removed]",
      "text/plain": [
       "<Figure size 1200x600 with 8 Axes>"
      ]
     },
     "metadata": {},
     "output_type": "display_data"
    }
   ],
   "source": [
    "fig, axes = plt.subplots(nrows=2, ncols=4, figsize=(12, 6))\n",
    "axes = axes.flatten()\n",
    "\n",
    "for i in range(images.size(0)):\n",
    "    image = images[i].squeeze(0)\n",
    "    image *= np.array([0.229, 0.224, 0.225])[:, None, None]\n",
    "    image += np.array([0.485, 0.456, 0.406])[:, None, None]\n",
    "    image = image.permute(1, 2, 0).numpy().clip(0,1)\n",
    "    axes[i].imshow(image)\n",
    "    axes[i].axis('off')  # Remove the axis labels and ticks\n",
    "    axes[i].set_title(f'Example {i+1}')\n",
    "\n",
    "plt.tight_layout()\n",
    "plt.show()"
   ]
  },
  {
   "cell_type": "code",
   "execution_count": 11,
   "id": "d130b6d1-e7dc-4bbd-9abd-3ad53b90e902",
   "metadata": {},
   "outputs": [
    {
     "data": {
      "text/plain": [
       "torch.Size([8, 14])"
      ]
     },
     "execution_count": 11,
     "metadata": {},
     "output_type": "execute_result"
    }
   ],
   "source": [
    "qpos.shape  # generalized position, normalized"
   ]
  },
  {
   "cell_type": "code",
   "execution_count": 33,
   "id": "52798fb6-f657-408b-b7f5-59b6854ba2f5",
   "metadata": {},
   "outputs": [
    {
     "data": {
      "text/plain": [
       "tensor([ 0.3503,  0.2530,  0.4788,  0.1136, -0.6017, -1.8678, -0.3333, -0.1773,\n",
       "         0.0548, -0.3719,  0.1549,  0.8801, -0.1641,  1.0739])"
      ]
     },
     "execution_count": 33,
     "metadata": {},
     "output_type": "execute_result"
    }
   ],
   "source": [
    "qpos[0]"
   ]
  },
  {
   "cell_type": "code",
   "execution_count": 12,
   "id": "31c38354-b630-4a0d-9160-5447cce9c3bb",
   "metadata": {},
   "outputs": [
    {
     "data": {
      "text/plain": [
       "torch.Size([8, 400, 14])"
      ]
     },
     "execution_count": 12,
     "metadata": {},
     "output_type": "execute_result"
    }
   ],
   "source": [
    "actions.shape  # controlling the arms is achieved via specifying the desired position\n",
    "               # which is translated to actuator movement, normalized as well"
   ]
  },
  {
   "cell_type": "code",
   "execution_count": 13,
   "id": "3f0ab106-f2dd-403e-90c8-68211c8d29ea",
   "metadata": {},
   "outputs": [
    {
     "data": {
      "image/png": "[encoded data removed]",
      "text/plain": [
       "<Figure size 1000x600 with 1 Axes>"
      ]
     },
     "metadata": {},
     "output_type": "display_data"
    }
   ],
   "source": [
    "plt.figure(figsize=(10, 6))\n",
    "plt.hist(actions.reshape(1, -1).numpy()[0], bins=10, density=True, alpha=0.7)\n",
    "plt.xlabel('Values')\n",
    "plt.ylabel('Density')\n",
    "plt.title('Action values in the batch')\n",
    "plt.grid(True)\n",
    "plt.show()"
   ]
  },
  {
   "cell_type": "code",
   "execution_count": 14,
   "id": "43a52345-881f-47d4-9927-5955df9e5c5a",
   "metadata": {},
   "outputs": [
    {
     "data": {
      "text/plain": [
       "torch.Size([8, 400])"
      ]
     },
     "execution_count": 14,
     "metadata": {},
     "output_type": "execute_result"
    }
   ],
   "source": [
    "is_pad.shape"
   ]
  },
  {
   "cell_type": "code",
   "execution_count": 15,
   "id": "12ef4315-bddf-4014-85e5-8fefd81f2023",
   "metadata": {},
   "outputs": [
    {
     "data": {
      "text/plain": [
       "tensor([395, 374, 396, 345, 177,  10,  96,  33])"
      ]
     },
     "execution_count": 15,
     "metadata": {},
     "output_type": "execute_result"
    }
   ],
   "source": [
    "is_pad.sum(1)  # num padded entries, episode len vectors returned, but starting at sampled ts, rest padded to 0"
   ]
  },
  {
   "cell_type": "code",
   "execution_count": 16,
   "id": "1806eff4-4ef0-4e22-beba-172b02631458",
   "metadata": {},
   "outputs": [
    {
     "data": {
      "text/plain": [
       "torch.Size([8, 400, 14])"
      ]
     },
     "execution_count": 16,
     "metadata": {},
     "output_type": "execute_result"
    }
   ],
   "source": [
    "actions.shape"
   ]
  },
  {
   "cell_type": "code",
   "execution_count": 17,
   "id": "26d02d62-d33c-49e1-af47-057fb3f8e0e2",
   "metadata": {},
   "outputs": [
    {
     "data": {
      "text/plain": [
       "tensor([[ 0.5418,  0.9240, -5.1079,  ..., -2.6120, -0.1645, -1.5442],\n",
       "        [ 0.5418,  0.9240, -5.1079,  ..., -2.6120, -0.1645, -1.5442],\n",
       "        [ 0.5418,  0.9240, -5.1079,  ..., -2.6120, -0.1645, -1.5442],\n",
       "        ...,\n",
       "        [ 0.5418,  0.9240, -5.1079,  ..., -2.6120, -0.1645, -1.5442],\n",
       "        [ 0.5418,  0.9240, -5.1079,  ..., -2.6120, -0.1645, -1.5442],\n",
       "        [ 0.5418,  0.9240, -5.1079,  ..., -2.6120, -0.1645, -1.5442]])"
      ]
     },
     "execution_count": 17,
     "metadata": {},
     "output_type": "execute_result"
    }
   ],
   "source": [
    "actions[0, -is_pad.sum(1)[0].item():]  # all entries are the same due to rescaling from dataset stats (x-x.mean) / x.std"
   ]
  },
  {
   "cell_type": "code",
   "execution_count": 18,
   "id": "d2847003-84df-40c1-8302-76822ac8572b",
   "metadata": {},
   "outputs": [
    {
     "data": {
      "text/plain": [
       "array([-0.54183406, -0.92396545,  5.107902  , -0.2590998 , -1.4696766 ,\n",
       "        1.8702813 ,  1.3852694 ,  0.17591998, -0.63465613,  1.0601509 ,\n",
       "       -0.1593731 ,  2.6120424 ,  0.1645495 ,  1.544169  ], dtype=float32)"
      ]
     },
     "execution_count": 18,
     "metadata": {},
     "output_type": "execute_result"
    }
   ],
   "source": [
    "stats = train_dataloader.dataset.norm_stats\n",
    "stats['action_mean']/stats['action_std']"
   ]
  },
  {
   "cell_type": "code",
   "execution_count": 19,
   "id": "6113bfbf-5bc1-4b0d-9b31-0c902be6099f",
   "metadata": {},
   "outputs": [
    {
     "name": "stdout",
     "output_type": "stream",
     "text": [
      "Actions to be taken till end of chunk_size/episode\n",
      "Example 1: 395\n",
      "Example 2: 374\n",
      "Example 3: 396\n",
      "Example 4: 345\n",
      "Example 5: 177\n",
      "Example 6: 10\n",
      "Example 7: 96\n",
      "Example 8: 33\n",
      "\n",
      "Empty action slots (== 0)\n",
      "Example 1: 5\n",
      "Example 2: 26\n",
      "Example 3: 4\n",
      "Example 4: 55\n",
      "Example 5: 223\n",
      "Example 6: 390\n",
      "Example 7: 304\n",
      "Example 8: 367\n"
     ]
    }
   ],
   "source": [
    "print('Actions to be taken till end of chunk_size/episode')\n",
    "for i in range(is_pad.shape[0]):\n",
    "    print(f'Example {i+1}: {is_pad[i].sum()}')\n",
    "\n",
    "print('\\nEmpty action slots (== 0)')\n",
    "for i in range(is_pad.shape[0]):\n",
    "    print(f'Example {i+1}: {(is_pad[i] == 0).sum()}')"
   ]
  },
  {
   "cell_type": "code",
   "execution_count": 20,
   "id": "9399af84-0219-443a-a131-88414cd62411",
   "metadata": {},
   "outputs": [],
   "source": [
    "os.makedirs(args['trained_model_dir'], exist_ok=True)\n",
    "\n",
    "stats_path = os.path.join(args['trained_model_dir'], 'dataset_stats.pkl')\n",
    "with open(stats_path, 'wb') as f:\n",
    "    pickle.dump(train_dataloader.dataset.norm_stats, f)"
   ]
  },
  {
   "cell_type": "code",
   "execution_count": 21,
   "id": "d9fa5d35-c93c-4220-b9a3-eed0f4be6ca4",
   "metadata": {},
   "outputs": [],
   "source": [
    "class Backbone(nn.Module):\n",
    "    \"\"\"ResNet backbone with frozen BatchNorm.\"\"\"\n",
    "    def __init__(self, name, position_embedding='sine'):\n",
    "        super().__init__()\n",
    "        backbone = getattr(torchvision.models, name)(pretrained=True)  # authors of ACT trained with frozen batchnorm, but not clear this should offer an advantage\n",
    "        self.backbone = nn.Sequential(*list(backbone.children())[:-2])\n",
    "        self.num_channels = 512 if name in ('resnet18', 'resnet34') else 2048\n",
    "\n",
    "        if position_embedding == 'sine':\n",
    "            self.position_embedding = PositionEmbeddingSine(self.num_channels // 2, normalize=True)\n",
    "        elif position_embedding == 'learned':\n",
    "            self.position_embedding = PositionEmbeddingLearned(self.num_channels // 2)\n",
    "        else:\n",
    "            raise ValueError(f\"not supported {position_embedding}\")\n",
    "\n",
    "    def forward(self, x):\n",
    "        x = self.backbone(x)\n",
    "        pos_embs = self.position_embedding(NestedTensor(x, torch.ones_like(x[0, [0]], dtype=torch.int8)))\n",
    "        return NestedTensor(x, pos_embs)\n",
    "\n",
    "\n",
    "def kl_divergence(mu, logvar):\n",
    "    batch_size = mu.size(0)\n",
    "    assert batch_size != 0\n",
    "    if mu.data.ndimension() == 4:\n",
    "        mu = mu.view(mu.size(0), mu.size(1))\n",
    "    if logvar.data.ndimension() == 4:\n",
    "        logvar = logvar.view(logvar.size(0), logvar.size(1))\n",
    "\n",
    "    klds = -0.5 * (1 + logvar - mu.pow(2) - logvar.exp())\n",
    "    total_kld = klds.sum(1).mean(0, True)\n",
    "    dimension_wise_kld = klds.mean(0)\n",
    "    mean_kld = klds.mean(1).mean(0, True)\n",
    "\n",
    "    return total_kld, dimension_wise_kld, mean_kld"
   ]
  },
  {
   "cell_type": "markdown",
   "id": "76f62f97-b28d-4da1-b7c9-997e0df043a8",
   "metadata": {},
   "source": [
    "![ACT Overview](ACT_overview.png)"
   ]
  },
  {
   "cell_type": "code",
   "execution_count": 22,
   "id": "da38b3c5-07f4-4fbd-b729-a87cb29f7c01",
   "metadata": {},
   "outputs": [],
   "source": [
    "class Transformer(DETRTransformer):\n",
    "    def forward(self, src, pos_embed, query_embed):\n",
    "        memory = self.encoder(src, src_key_padding_mask=None, pos=pos_embed)\n",
    "\n",
    "        tgt = torch.zeros_like(query_embed)\n",
    "\n",
    "        hs = self.decoder(tgt, memory, memory_key_padding_mask=None,\n",
    "                          pos=pos_embed, query_pos=query_embed)\n",
    "        return hs.transpose(1, 2)"
   ]
  },
  {
   "cell_type": "markdown",
   "id": "094a18f5-9bd4-4719-9d66-b287387883d3",
   "metadata": {},
   "source": [
    "The `forward` method of the `Transformer` is hard to understand at first sight. Why do we pass `queries` as `query_pos` which seems to suggest that they are positional encodings?\n",
    "\n",
    "If we look at the multiheaded attention (a `nn.MultiheadAttention`) of the DETR `TransformerDecoderLayer`,  this becomes more clear:\n",
    "```\n",
    "tgt2 = self.multihead_attn(query=self.with_pos_embed(tgt, query_pos),\n",
    "                           key=self.with_pos_embed(memory, pos),\n",
    "                           value=memory, attn_mask=memory_mask,\n",
    "                           key_padding_mask=memory_key_padding_mask)[0]\n",
    "```\n",
    "\n",
    "The `self.with_pos_embed(...)` sums its arguments so in the first `TransformerDecoderLayer` of `TransformerDecoder` query is just `query_pos` (query embeddings).\n",
    "\n",
    "In a sense query embeddings are positional embeddings -- the only information they carry is what value to be outputted for the `chunk_size` number of actions we are predicting.\n",
    "\n",
    "In a standard transformer operating on text, queries would be obtained from summing positional encoding (`query_pos`) with the embedding of the word at current time step `t` and as the embedding travels up the transformer stack, we would hope that it would transform into a vector containing information that would lend itself well to predicitng the word idx for word at time step `t+1`.\n",
    "\n",
    "The following excerpt from [Attention is all you need](https://arxiv.org/abs/1706.03762) describes how this is done:\n",
    "```\n",
    "In \"encoder-decoder attention\" layers, the queries come from the previous decoder layer,\n",
    "and the memory keys and values come from the output of the encoder. This allows every\n",
    "position in the decoder to attend over all positions in the input sequence. This mimics the\n",
    "typical encoder-decoder attention mechanisms in sequence-to-sequence models such as\n",
    "[38, 2, 9].\n",
    "```\n",
    "\n",
    "`keys` and `values` come from the decoder, as we would expect.\n",
    "\n",
    "Unless I am missing something, `queries` could be passed as `tgt` to decoder. That is what the image depicting ACT would suggest.\n",
    "\n",
    "But it is much tougher to backpropagate gradient through the decoder layers all the way to the bottom. Here, using queries as position embeddings for a target of all zeroes means we are getting a residual connection at every decoder layer for free! Without modifying the original code. That is quite ingenious.\n",
    "\n",
    "But if we look at DETR the image there, likewise, positions the queries where we would expect in\n",
    "puts to the decoder, where shifted input would normally go!\n",
    "\n",
    "Here is the architecture from Attention is all you need, for reference.\n",
    "![attention is all you need](attention_is_all_you_need.png)\n",
    "\n",
    "And here is a portrayal of DETR:\n",
    "![DETR](DETR.png)\n",
    "\n",
    "So while the images are very suggestive, they only partially capture how queries are used! Explained in [the DETR paper](https://arxiv.org/abs/2005.12872) and more explicitly via looking at what information gets passed where in code:\n",
    "\n",
    "```\n",
    "These input embeddings are learnt positional encodings that we refer to as object queries,\n",
    "and similarly to the encoder, we add them to the input of each attention layer.\n",
    "```"
   ]
  },
  {
   "cell_type": "code",
   "execution_count": 23,
   "id": "228ad2a4-e2c8-4706-b358-6a1a13951335",
   "metadata": {},
   "outputs": [],
   "source": [
    "def sinusoid_encoding_table():\n",
    "    n_position = args['chunk_size']+2\n",
    "    d_hid = args['d_model']\n",
    "    def get_position_angle_vec(position):\n",
    "        return [position / np.power(10000, 2 * (hid_j // 2) / d_hid) for hid_j in range(d_hid)]\n",
    "\n",
    "    sinusoid_table = np.array([get_position_angle_vec(pos_i) for pos_i in range(n_position)])\n",
    "    sinusoid_table[:, 0::2] = np.sin(sinusoid_table[:, 0::2])  # dim 2i\n",
    "    sinusoid_table[:, 1::2] = np.cos(sinusoid_table[:, 1::2])  # dim 2i+1\n",
    "\n",
    "    return torch.FloatTensor(sinusoid_table).unsqueeze(0).permute(1, 0, 2)\n",
    "\n",
    "class DeviceAwareModule(nn.Module):\n",
    "    @property\n",
    "    def device(self):\n",
    "        return next(self.parameters()).device\n",
    "\n",
    "class cvaeEncoderInputCollator(DeviceAwareModule):\n",
    "    '''\n",
    "    Provides:\n",
    "      * the class token embedding\n",
    "      * positional encoding for a given `chunk_size` and `d_model`\n",
    "      * projects actions and qpos to `d_model`\n",
    "      '''\n",
    "    def __init__(self):\n",
    "        super().__init__()\n",
    "        self.cls_token = nn.Parameter(torch.randn(1, args['d_model']))\n",
    "        self.action_proj = nn.Linear(14, args['d_model'])\n",
    "        self.qpos_proj = nn.Linear(14, args['d_model'])\n",
    "        self.pos_encoding = self.register_buffer('pos_encoding', sinusoid_encoding_table())\n",
    "          \n",
    "    def forward(self, actions, qpos, is_pad):\n",
    "        bs = actions.shape[0]\n",
    "        \n",
    "        actions = self.action_proj(actions)       # (bs, chunk_size, d_model)\n",
    "        qpos = self.qpos_proj(qpos).unsqueeze(1)  # (bs, 1, d_model)\n",
    "        cls_token = self.cls_token.unsqueeze(1).repeat(bs, 1, 1) # (bs, 1, d_model)\n",
    "        \n",
    "        cls_qpos_actions = torch.cat([cls_token, qpos, actions], axis=1) # (bs, chunk_size+2, d_model)\n",
    "\n",
    "        cls_qpos_is_pad = torch.zeros((bs, 2), device=self.device)\n",
    "        cls_qpos_actions_is_pad = torch.cat([cls_qpos_is_pad, is_pad], axis=1)  # (bs, chunk_size+2)\n",
    "        \n",
    "        cls_qpos_actions = cls_qpos_actions.permute(1, 0, 2) # (chunk_size+2, bs, d_model)\n",
    "        cls_qpos_actions_pos_encoding = self.pos_encoding\n",
    "        return cls_qpos_actions, cls_qpos_actions_pos_encoding, cls_qpos_actions_is_pad\n",
    "\n",
    "\n",
    "class cvaeEncoder(TransformerEncoder):\n",
    "    def __init__(self):\n",
    "        encoder_layer = TransformerEncoderLayer(args['d_model'], args['nhead'], args['dim_feedforward'],\n",
    "                                        args['dropout'], \"relu\", args['normalize_before'])\n",
    "        encoder_norm = nn.LayerNorm(d_model) if args['normalize_before'] else None\n",
    "        super().__init__(encoder_layer, args['num_encoder_layers'], encoder_norm)\n",
    "        \n",
    "        self.cvae_encoder_input_collector = cvaeEncoderInputCollator()\n",
    "\n",
    "    def forward(self, actions, qpos, is_pad):\n",
    "        cls_qpos_actions, cls_qpos_actions_pos_encoding, cls_qpos_actions_is_pad = self.cvae_encoder_input_collector(actions, qpos, is_pad)\n",
    "        encoder_output = super().forward(\n",
    "            cls_qpos_actions,\n",
    "            pos=cls_qpos_actions_pos_encoding,\n",
    "            src_key_padding_mask=cls_qpos_actions_is_pad\n",
    "        )\n",
    "        style_variable_z = encoder_output[0]  # take output only for cls token\n",
    "        \n",
    "        return style_variable_z"
   ]
  },
  {
   "cell_type": "code",
   "execution_count": 24,
   "id": "de827dac-f33e-4519-84ed-4bf399d7b8f3",
   "metadata": {},
   "outputs": [],
   "source": [
    "class LatentDistributionSampler(DeviceAwareModule):\n",
    "    def __init__(self):\n",
    "        super().__init__()\n",
    "\n",
    "        self.latent_var_proj =  nn.Linear(args['d_model'], args['latent_dim'] * 2)  # project latent variable to 2x latent_dim\n",
    "\n",
    "    def forward(self, style_variable_z=None):\n",
    "        if style_variable_z is not None:\n",
    "            latent_distribution_parameters = self.latent_var_proj(style_variable_z)\n",
    "            mu, logvar = latent_distribution_parameters.split(args['latent_dim'], dim=1)\n",
    "            latent_sample = sample_from_normal_distribution(mu, logvar)\n",
    "        else:\n",
    "            latent_sample = torch.zeros([1, args['latent_dim']], dtype=torch.float32, device=self.device)\n",
    "            mu, logvar = 0, 0\n",
    "        return latent_sample, [mu, logvar]"
   ]
  },
  {
   "cell_type": "code",
   "execution_count": 25,
   "id": "39cd62b0-3741-4557-9fcb-faeff5725252",
   "metadata": {},
   "outputs": [],
   "source": [
    "class cvaeDecoderInputCollator(DeviceAwareModule):\n",
    "    '''\n",
    "    Provides:\n",
    "      \n",
    "      '''\n",
    "    def __init__(self, vision_backbone):\n",
    "        super().__init__()\n",
    "        self.latent_out_proj = nn.Linear(args['latent_dim'], args['d_model'])  # project latent sample to d_model\n",
    "        self.proprio_and_latent_pos = nn.Parameter(torch.randn(2, args['d_model']))\n",
    "        self.robot_state_proj = nn.Linear(14, args['d_model'])  # project state/proprio features to d_model\n",
    "        self.queries = nn.Parameter(torch.randn(args['chunk_size'], args['d_model']))\n",
    "        \n",
    "        self.vision_backbone = vision_backbone\n",
    "        self.img_features_projector = nn.Conv2d(vision_backbone.num_channels, args['d_model'], kernel_size=1)\n",
    "        \n",
    "    def forward(self, latent_sample, images, qpos):\n",
    "        batch_size = images.shape[0]\n",
    "        \n",
    "        latent_input = self.latent_out_proj(latent_sample)\n",
    "        proprio_input = self.robot_state_proj(qpos)\n",
    "\n",
    "        # image_feautres = (batch_size, d_model, feature_map_height, feature_map_width)\n",
    "        # pos = like above, but 1 instead of batch_size\n",
    "        image_features, pos = self.vision_backbone(images).decompose()\n",
    "        \n",
    "        #######\n",
    "        # This is quite interesting -- feature maps with resnet 512 are 20 x 15\n",
    "        # In the current formulation each \"embedding\" will have a collection of all pixels at a given location, say [0, 0]\n",
    "        # across all feature maps. So we will get 20x15 = 300 embeddings with each containing one activation from each of the 512 channels.\n",
    "        # Maybe this makes sense? It does make it simpler to ensure that we get embeddings of d_model size.\n",
    "        # But one could argue that as convs operate on local patches, that it might be better to feed\n",
    "        # each feature map into separate embedding. Though maybe the linear projections inside the transformer (calculating k,q,v)\n",
    "        # make it not matter much/at all?\n",
    "        # Might be worth trying it out at some point.\n",
    "        \n",
    "        image_features = image_features.flatten(2).permute(2,0,1)  # (width * height of feature map, bs, num channels == d_model)\n",
    "        pos = pos.flatten(2).permute(2,0,1).repeat(1, batch_size, 1)\n",
    "        \n",
    "        queries = self.queries.unsqueeze(1).repeat(1, batch_size, 1)\n",
    "        \n",
    "        proprio_and_latent_pos = self.proprio_and_latent_pos.unsqueeze(1).repeat(1, image_features.shape[1], 1)\n",
    "        pos = torch.cat([proprio_and_latent_pos, pos], axis=0)\n",
    "        \n",
    "        latent_and_proprio_input = torch.stack([latent_input, proprio_input], axis=1).permute(1,0,2)\n",
    "        src = torch.cat([latent_and_proprio_input, image_features], axis=0)\n",
    "\n",
    "        return src, pos, queries"
   ]
  },
  {
   "cell_type": "code",
   "execution_count": 26,
   "id": "61597b80-5530-45b5-ad8b-1993ada2a1af",
   "metadata": {},
   "outputs": [],
   "source": [
    "class cvaeDecoder(Transformer):\n",
    "    def __init__(self):\n",
    "        \n",
    "        arg_for_transformer = [\n",
    "            'd_model', 'dropout', 'nhead', 'dim_feedforward', 'num_encoder_layers',\n",
    "            'num_decoder_layers', 'normalize_before'\n",
    "        ]\n",
    "        super().__init__(**{k: args[k] for k in arg_for_transformer}) \n",
    "\n",
    "        vision_backbone = Backbone(args['backbone'])\n",
    "        self.cvae_decoder_input_collector = cvaeDecoderInputCollator(vision_backbone)\n",
    "        self.action_head = nn.Linear(args['d_model'], args['state_dim'])\n",
    "\n",
    "    def forward(self, latent_sample, images, qpos):\n",
    "        src, pos, queries = self.cvae_decoder_input_collector(latent_sample, images, qpos)\n",
    "        hs = super().forward(src, pos, queries)  # hidden state from the last layer of the decoder stack\n",
    "        a_hat = self.action_head(hs)\n",
    "        return a_hat"
   ]
  },
  {
   "cell_type": "code",
   "execution_count": null,
   "id": "0c7649fa-2465-4950-bb6a-6a4e164d7e08",
   "metadata": {},
   "outputs": [],
   "source": [
    "def sample_from_normal_distribution(mu, logvar):\n",
    "    std = logvar.div(2).exp()\n",
    "    eps = std.new(std.size()).normal_()\n",
    "    return mu + std * eps"
   ]
  },
  {
   "cell_type": "code",
   "execution_count": 27,
   "id": "b60ef330-77dc-4f37-961b-28109e3ab1b8",
   "metadata": {},
   "outputs": [],
   "source": [
    "class DETRVAE(nn.Module):\n",
    "    def __init__(self):\n",
    "        super().__init__()\n",
    "        \n",
    "        self.cvaeEncoder = cvaeEncoder()\n",
    "        self.latent_distribution_sampler = LatentDistributionSampler()\n",
    "        self.cvaeDecoder = cvaeDecoder()\n",
    "\n",
    "    def forward(self, qpos, images, actions=None, is_pad=None):\n",
    "        \"\"\"\n",
    "        Dimensionalities:\n",
    "          qpos: batch_size, state_dim\n",
    "          image: batch_size, channel, height, width\n",
    "          actions: batch_size, chunk_size, state_dim\n",
    "        \"\"\"\n",
    "        if actions is not None:  # training\n",
    "            style_variable_z = self.cvaeEncoder(actions, qpos, is_pad)    \n",
    "            latent_sample, [mu, logvar] = self.latent_distribution_sampler(style_variable_z)\n",
    "        else:\n",
    "            latent_sample, [mu, logvar] = self.latent_distribution_sampler()\n",
    "            \n",
    "        a_hat = self.cvaeDecoder(latent_sample, images, qpos).squeeze(0)\n",
    "        return a_hat, [mu, logvar]"
   ]
  },
  {
   "cell_type": "code",
   "execution_count": 28,
   "id": "8e8a13be-d939-4486-8428-629b7b8d0c69",
   "metadata": {},
   "outputs": [],
   "source": [
    "class ACTPolicy(nn.Module):\n",
    "    def __init__(self):\n",
    "        super().__init__()\n",
    "        self.model = DETRVAE().cuda()\n",
    "\n",
    "    def __call__(self, qpos, image, actions=None, is_pad=None):\n",
    "        if actions is not None: # training time\n",
    "            actions = actions[:, :args['chunk_size']]  # experiment with different chunk_sizes\n",
    "            is_pad = is_pad[:, :args['chunk_size']]\n",
    "\n",
    "            a_hat, (mu, logvar) = self.model(qpos, image, actions, is_pad)\n",
    "            total_kld, dim_wise_kld, mean_kld = kl_divergence(mu, logvar)\n",
    "            l1 = F.l1_loss(actions, a_hat, reduction='none')\n",
    "            mean_l1_masked_out_padding = (l1 * ~is_pad.unsqueeze(-L1)).mean()\n",
    "            loss = mean_l1_masked_out_padding + total_kld[0] * args['kl_weight']\n",
    "            return loss\n",
    "        else: # inference time\n",
    "            a_hat, (_, _) = self.model(qpos, image) # no action, sample from prior\n",
    "            return a_hat"
   ]
  },
  {
   "cell_type": "code",
   "execution_count": 29,
   "id": "5b0d59b2-811f-40a5-8cf2-4c0691b45d71",
   "metadata": {},
   "outputs": [
    {
     "name": "stdout",
     "output_type": "stream",
     "text": [
      "KL Weight 10\n",
      "number of parameters: 83.93M\n"
     ]
    },
    {
     "name": "stderr",
     "output_type": "stream",
     "text": [
      "/home/radek/miniforge3/envs/aloha/lib/python3.8/site-packages/torchvision/models/_utils.py:209: UserWarning: The parameter 'pretrained' is deprecated since 0.13 and may be removed in the future, please use 'weights' instead.\n",
      "  warnings.warn(\n",
      "/home/radek/miniforge3/envs/aloha/lib/python3.8/site-packages/torchvision/models/_utils.py:224: UserWarning: Arguments other than a weight enum or `None` for 'weights' are deprecated since 0.13 and may be removed in the future. The current behavior is equivalent to passing `weights=ResNet18_Weights.IMAGENET1K_V1`. You can also use `weights=ResNet18_Weights.DEFAULT` to get the most up-to-date weights.\n",
      "  warnings.warn(msg)\n"
     ]
    }
   ],
   "source": [
    "policy = ACTPolicy()\n",
    "\n",
    "print(f\"KL Weight {args['kl_weight']}\")\n",
    "\n",
    "n_parameters = sum(p.numel() for p in policy.model.parameters() if p.requires_grad)\n",
    "print(\"number of parameters: %.2fM\" % (n_parameters/1e6))"
   ]
  },
  {
   "cell_type": "code",
   "execution_count": 30,
   "id": "f3bcf784-deb7-4011-ad9a-4d77c0658e16",
   "metadata": {},
   "outputs": [],
   "source": [
    "normalize_fn = transforms.Normalize(mean=[0.485, 0.456, 0.406], std=[0.229, 0.224, 0.225])\n",
    "\n",
    "def get_image(ts, camera_names):\n",
    "    curr_images = []\n",
    "    for cam_name in camera_names:\n",
    "        curr_image = rearrange(ts.observation['images'][cam_name], 'h w c -> c h w')\n",
    "        curr_images.append(curr_image)\n",
    "    curr_image = np.stack(curr_images, axis=0)\n",
    "    curr_image = torch.from_numpy(curr_image / 255.0).float().cuda().unsqueeze(0)\n",
    "    curr_image = normalize_fn(curr_image)\n",
    "    return curr_image[0]\n",
    "\n",
    "def run_rollout_validation(ckpt_name='policy_best.ckpt', num_rollouts=20, query_frequency=20, save_video=False):\n",
    "    policy = ACTPolicy()\n",
    "    policy.load_state_dict(\n",
    "        torch.load(os.path.join(args['trained_model_dir'], ckpt_name)\n",
    "        )\n",
    "    )\n",
    "    policy.cuda()\n",
    "    policy.eval()\n",
    "\n",
    "    stats_path = os.path.join(args['trained_model_dir'], 'dataset_stats.pkl')\n",
    "    with open(stats_path, 'rb') as f:\n",
    "        stats = pickle.load(f)\n",
    "    \n",
    "    pre_process = lambda s_qpos: (s_qpos - stats['qpos_mean']) / stats['qpos_std']\n",
    "    post_process = lambda a: a * stats['action_std'] + stats['action_mean']\n",
    "    \n",
    "    \n",
    "    env = make_sim_env(args['task_name'])\n",
    "    env_max_reward = env.task.max_reward\n",
    "\n",
    "    max_timesteps = args['episode_len']\n",
    "\n",
    "    episode_returns = []\n",
    "    highest_rewards = []\n",
    "    \n",
    "    for rollout_id in range(num_rollouts):\n",
    "        ### set task\n",
    "        if 'sim_transfer_cube' in args['task_name']:\n",
    "            BOX_POSE[0] = sample_box_pose() # used in sim reset\n",
    "        elif 'sim_insertion' in args['task_name']:\n",
    "            BOX_POSE[0] = np.concatenate(sample_insertion_pose()) # used in sim reset\n",
    "    \n",
    "        ts = env.reset()\n",
    "    \n",
    "        ### evaluation loop\n",
    "        qpos_history = torch.zeros((1, max_timesteps, args['state_dim'])).cuda()\n",
    "        image_list = [] # for visualization\n",
    "        qpos_list = []\n",
    "        target_qpos_list = []\n",
    "        rewards = []\n",
    "        with torch.inference_mode():\n",
    "            for t in range(max_timesteps):\n",
    "                ### process previous timestep to get qpos and image_list\n",
    "                obs = ts.observation\n",
    "                if 'images' in obs:\n",
    "                    image_list.append(obs['images'])\n",
    "                else:\n",
    "                    image_list.append({'main': obs['image']})\n",
    "                qpos = pre_process(obs['qpos'])\n",
    "                qpos = torch.from_numpy(qpos).float().cuda().unsqueeze(0)\n",
    "                qpos_history[:, t] = qpos\n",
    "                curr_image = get_image(ts, args['camera_names'])\n",
    "    \n",
    "                ### query policy\n",
    "                if t % query_frequency == 0:\n",
    "                    all_actions = policy(qpos, curr_image)\n",
    "                raw_action = all_actions[:, t % query_frequency]\n",
    "    \n",
    "                ### post-process actions\n",
    "                raw_action = raw_action.squeeze(0).cpu().numpy()\n",
    "                action = post_process(raw_action)\n",
    "                target_qpos = action\n",
    "    \n",
    "                ### step the environment\n",
    "                ts = env.step(target_qpos)\n",
    "    \n",
    "                ### for visualization\n",
    "                qpos_list.append(qpos)\n",
    "                target_qpos_list.append(target_qpos)\n",
    "                rewards.append(ts.reward)\n",
    "            plt.close()\n",
    "    \n",
    "            rewards = np.array(rewards)\n",
    "            episode_return = np.sum(rewards[rewards!=None])\n",
    "            episode_returns.append(episode_return)\n",
    "            episode_highest_reward = np.max(rewards)\n",
    "            highest_rewards.append(episode_highest_reward)\n",
    "            print(f'Rollout {rollout_id}\\n{episode_return=}, {episode_highest_reward=}, {env_max_reward=}, Success: {episode_highest_reward==env_max_reward}')\n",
    "    \n",
    "            if rollout_id == 0 and save_video:\n",
    "                save_videos(image_list, 1/args['fps'], video_path=os.path.join(args['trained_model_dir'], 'rollout_0.mp4'))\n",
    "    \n",
    "            success_rate = np.mean(np.array(highest_rewards) == env_max_reward)\n",
    "            avg_return = np.mean(episode_returns)\n",
    "            summary_str = f'\\nSuccess rate: {success_rate}\\nAverage return: {avg_return}\\n\\n'\n",
    "            for r in range(env_max_reward+1):\n",
    "                more_or_equal_r = (np.array(highest_rewards) >= r).sum()\n",
    "                more_or_equal_r_rate = more_or_equal_r / num_rollouts\n",
    "                summary_str += f'Reward >= {r}: {more_or_equal_r}/{num_rollouts} = {more_or_equal_r_rate*100}%\\n'\n",
    "        \n",
    "    return success_rate, avg_return"
   ]
  },
  {
   "cell_type": "code",
   "execution_count": 31,
   "id": "4f8b79a9-a2cc-4c68-b8e7-1e1175d649b9",
   "metadata": {},
   "outputs": [
    {
     "name": "stderr",
     "output_type": "stream",
     "text": [
      "  0%|                                                                                                                                                                                                                                                                                                                                                | 0/2 [00:00<?, ?it/s]"
     ]
    },
    {
     "name": "stdout",
     "output_type": "stream",
     "text": [
      "\n",
      "Epoch 0\n",
      "Val loss:   81.21638\n"
     ]
    },
    {
     "name": "stderr",
     "output_type": "stream",
     "text": [
      " 50%|████████████████████████████████████████████████████████████████████████████████████████████████████████████████████████████████████████████████████████████████████                                                                                                                                                                    | 1/2 [00:01<00:01,  1.44s/it]"
     ]
    },
    {
     "name": "stdout",
     "output_type": "stream",
     "text": [
      "\n",
      "Epoch 1\n",
      "Val loss:   36.85328\n",
      "Rollout 0\n",
      "episode_return=0, episode_highest_reward=0, env_max_reward=4, Success: False\n"
     ]
    },
    {
     "name": "stderr",
     "output_type": "stream",
     "text": [
      "100%|████████████████████████████████████████████████████████████████████████████████████████████████████████████████████████████████████████████████████████████████████████████████████████████████████████████████████████████████████████████████████████████████████████████████████████████████████████████████████████████████████████| 2/2 [00:09<00:00,  4.63s/it]"
     ]
    },
    {
     "name": "stdout",
     "output_type": "stream",
     "text": [
      "Rollout 1\n",
      "episode_return=0, episode_highest_reward=0, env_max_reward=4, Success: False\n",
      "policy_epoch_1.ckpt: success_rate=0.0 avg_return=0.0\n"
     ]
    },
    {
     "name": "stderr",
     "output_type": "stream",
     "text": [
      "\n"
     ]
    },
    {
     "name": "stdout",
     "output_type": "stream",
     "text": [
      "Training finished: val loss 36.853275 at epoch 1\n"
     ]
    }
   ],
   "source": [
    "policy.cuda()\n",
    "\n",
    "param_dicts = [\n",
    "    {\"params\": [p for n, p in policy.model.named_parameters() if \"backbone\" not in n and p.requires_grad]},\n",
    "    {\n",
    "        \"params\": [p for n, p in policy.model.named_parameters() if \"backbone\" in n and p.requires_grad],\n",
    "        \"lr\": args['lr_backbone'],\n",
    "    },\n",
    "]\n",
    "optimizer = torch.optim.AdamW(param_dicts, lr=args['lr'], weight_decay=args['weight_decay'])\n",
    "\n",
    "min_val_loss = np.inf\n",
    "best_ckpt_info = None\n",
    "\n",
    "for epoch in tqdm(range(args['num_epochs'])):\n",
    "    print(f'\\nEpoch {epoch}')\n",
    "    # validation\n",
    "    with torch.inference_mode():\n",
    "        policy.eval()\n",
    "        losses = []\n",
    "        for image_data, qpos_data, action_data, is_pad in val_dataloader:\n",
    "            image_data, qpos_data, action_data, is_pad = image_data.cuda(), qpos_data.cuda(), action_data.cuda(), is_pad.cuda()\n",
    "            loss = policy(qpos_data, image_data, action_data, is_pad)\n",
    "            losses.append(loss.cpu().numpy())\n",
    "\n",
    "        epoch_val_loss = np.mean(losses)\n",
    "        if epoch_val_loss < min_val_loss:\n",
    "            min_val_loss = epoch_val_loss\n",
    "            best_ckpt_info = (epoch, min_val_loss, deepcopy(policy.state_dict()))\n",
    "    print(f'Val loss:   {epoch_val_loss:.5f}')\n",
    "    run.track(epoch_val_loss, name='loss', step=epoch, context={ \"subset\":\"val\" })\n",
    "\n",
    "    # training\n",
    "    policy.train()\n",
    "    optimizer.zero_grad()\n",
    "    for image_data, qpos_data, action_data, is_pad in train_dataloader:\n",
    "        image_data, qpos_data, action_data, is_pad = image_data.cuda(), qpos_data.cuda(), action_data.cuda(), is_pad.cuda()\n",
    "        loss = policy(qpos_data, image_data, action_data, is_pad)\n",
    "    \n",
    "        # backward\n",
    "        loss.backward()\n",
    "        optimizer.step()\n",
    "        optimizer.zero_grad()\n",
    "    run.track(loss.item(), name='loss', step=epoch, context={ \"subset\":\"train\" })\n",
    "\n",
    "    if epoch != 0 and (epoch % args['eval_interval_epochs'] == 0 or epoch == args['num_epochs']-1):\n",
    "        ckpt_name = f'policy_epoch_{epoch}.ckpt'\n",
    "        ckpt_path = os.path.join(args['trained_model_dir'], ckpt_name)\n",
    "        torch.save(policy.state_dict(), ckpt_path)\n",
    "        \n",
    "\n",
    "        success_rate, avg_return = run_rollout_validation( f'policy_epoch_{epoch}.ckpt', num_rollouts=args['num_eval_rollouts'])\n",
    "        print(f'{ckpt_name}: {success_rate=} {avg_return=}')\n",
    "        \n",
    "        run.track(success_rate, name='success_rate', step=epoch)\n",
    "        run.track(avg_return, name='average_return', step=epoch)\n",
    "\n",
    "ckpt_path = os.path.join(args['trained_model_dir'], f'policy_last.ckpt')\n",
    "torch.save(policy.state_dict(), ckpt_path)\n",
    "\n",
    "best_epoch, min_val_loss, best_state_dict = best_ckpt_info\n",
    "ckpt_path = os.path.join(args['trained_model_dir'], f'policy_epoch_{best_epoch}.ckpt')\n",
    "torch.save(best_state_dict, ckpt_path)\n",
    "print(f'Training finished: val loss {min_val_loss:.6f} at epoch {best_epoch}')"
   ]
  },
  {
   "cell_type": "code",
   "execution_count": 32,
   "id": "60ef030a-7d1c-4b7e-8a3f-efba88c6c095",
   "metadata": {},
   "outputs": [],
   "source": [
    "run.close()"
   ]
  }
 ],
 "metadata": {
  "kernelspec": {
   "display_name": "Python 3 (ipykernel)",
   "language": "python",
   "name": "python3"
  },
  "language_info": {
   "codemirror_mode": {
    "name": "ipython",
    "version": 3
   },
   "file_extension": ".py",
   "mimetype": "text/x-python",
   "name": "python",
   "nbconvert_exporter": "python",
   "pygments_lexer": "ipython3",
   "version": "3.8.19"
  }
 },
 "nbformat": 4,
 "nbformat_minor": 5
}
